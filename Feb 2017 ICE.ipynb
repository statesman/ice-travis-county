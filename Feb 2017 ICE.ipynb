{
 "cells": [
  {
   "cell_type": "markdown",
   "metadata": {},
   "source": [
    "# Information about Ice raids in February, 2017\n",
    "\n",
    "Interesting, there is problem with converting the .xlsx file. I had to open it in Excel and `save as` first before csvkit would properly process the contents of the file.\n"
   ]
  },
  {
   "cell_type": "code",
   "execution_count": null,
   "metadata": {
    "collapsed": false
   },
   "outputs": [],
   "source": []
  },
  {
   "cell_type": "code",
   "execution_count": 1,
   "metadata": {
    "collapsed": false
   },
   "outputs": [
    {
     "name": "stderr",
     "output_type": "stream",
     "text": [
      "/Users/christian/anaconda/envs/data/lib/python3.5/site-packages/openpyxl/workbook/names/named_range.py:124: UserWarning: Discarded range with reserved name\n",
      "  warnings.warn(\"Discarded range with reserved name\")\n",
      "/Users/christian/anaconda/envs/data/lib/python3.5/site-packages/openpyxl/workbook/workbook.py:102: UserWarning: Call to deprecated function or class get_active_sheet (Use the .active property).\n",
      "  def get_active_sheet(self):\n"
     ]
    }
   ],
   "source": [
    "%%bash\n",
    "# Convert to csv\n",
    "in2csv data-feb-raw/reinstated.xlsx > data-feb/reinstated.csv"
   ]
  },
  {
   "cell_type": "code",
   "execution_count": 2,
   "metadata": {
    "collapsed": true
   },
   "outputs": [],
   "source": [
    "%%bash\n",
    "# this trims stuff from the head and tail\n",
    "count=$(wc -l < data-feb/reinstated.csv | sed 's/ //g'); trim=$(echo $count - 10 | bc); \\\n",
    "tail -n +6 data-feb/reinstated.csv | head -n $trim > data-feb/reinstated-trimmed.csv\n"
   ]
  },
  {
   "cell_type": "code",
   "execution_count": 3,
   "metadata": {
    "collapsed": false
   },
   "outputs": [
    {
     "name": "stdout",
     "output_type": "stream",
     "text": [
      "201\n"
     ]
    }
   ],
   "source": [
    "%%bash\n",
    "# report line count, stripping spaces\n",
    "wc -l < data-feb/reinstated-trimmed.csv | sed 's/ //g'\n"
   ]
  },
  {
   "cell_type": "code",
   "execution_count": 4,
   "metadata": {
    "collapsed": false
   },
   "outputs": [],
   "source": [
    "import csv\n",
    "import datetime"
   ]
  },
  {
   "cell_type": "code",
   "execution_count": 5,
   "metadata": {
    "collapsed": true
   },
   "outputs": [],
   "source": [
    "# helper functions\n",
    "\n",
    "# This is the name unmangler\n",
    "def name_unmangler(name_str):\n",
    "    \"\"\"Return `LAST,REST` as a tuple\"\"\"\n",
    "    try:\n",
    "        name_split = name_str.split(',')\n",
    "        return (name_split[0], name_split[1])\n",
    "    except:\n",
    "        return name_str\n"
   ]
  },
  {
   "cell_type": "code",
   "execution_count": 48,
   "metadata": {
    "collapsed": false
   },
   "outputs": [
    {
     "name": "stdout",
     "output_type": "stream",
     "text": [
      "1541823 ['NEWART', '36010001', 'INDECENCY W/CHILD SEXUAL CONTACT', '', 'F2', '', '70000', '', '']\n",
      "1541823 ['ICEW', '4200', 'ICE DETAINER', '', 'F*', '', '', '', '']\n",
      "1601778 ['NEW', '48010019', 'EVADING ARREST DET W/PREV CONVICTION', '', 'FS', '', '', '2016-01-15', 'NO CHARGES FILED']\n",
      "1601778 ['NEW', '48010020', 'EVADING ARREST DET W/VEH', '', 'F3', '7 years', '', '', '']\n",
      "1601778 ['NEW', '54040011', 'DRIVING WHILE INTOXICATED 3RD OR MORE', '', 'F3', '7 years', '', '', '']\n",
      "1601778 ['NEW', '29990042', 'CRIMINAL MISCHIEF >=$100<$750', '', 'MB', '', '', '2016-01-14', 'NO CHARGES FILED']\n",
      "1601778 ['NEW', '35990014', 'POSS CS PG1<1G (FS)', '', 'FS', '', '', '2016-01-14', 'NO CHARGES FILED']\n",
      "1601778 ['NEW', '29990027', 'CRIM MISCHIEF IMPAIR/INTERRUPT PUB SERVICE', '', 'FS', '', '', '', '']\n",
      "1601778 ['ICEW', '4200', 'ICE DETAINER', '', 'F*', '', '', '', '']\n",
      "1601778 ['REIN', '54040011', 'DRIVING WHILE INTOXICATED 3RD OR MORE', '', 'F3', '', '', '2017-01-18', 'DISMISSAL']\n",
      "1621712 ['NEW', '54040011', 'DRIVING WHILE INTOXICATED 3RD OR MORE', '', 'F3', '3 years', '', '2017-02-09', 'RELEASED TO TDCJ-ID']\n",
      "1621712 ['ICEW', '4200', 'ICE DETAINER', '', 'F*', '', '', '2017-02-09', 'RELEASED TO TDCJ-ID']\n",
      "1624441 ['NEW', '54040014', 'DRIVING WHILE INTOXICATED BAC>=0.15', '', 'MA', '', '4000', '', '']\n",
      "1624441 ['NEW', '54010009', 'ACCIDENT INVOLVING SERIOUS BODILY INJURY', '', 'F3', '', '15000', '', '']\n",
      "1624441 ['BFOR', '35990014', 'POSS CS PG1<1G (FS)', '', 'FS', '', '', '', '']\n",
      "1624441 ['ICEW', '4200', 'ICE DETAINER', '', 'F*', '', '', '', '']\n",
      "1625127 ['NEWART', '13150005', 'AGG ASSLT W/DEADLY WEAPON', '', 'F2', '', '40000', '', '']\n",
      "1625127 ['NEWART', '16020010', 'TERRORISTIC THREAT OF FAMILY/HOUSEHOLD', '', 'MA', '', '75000', '', '']\n",
      "1625127 ['NEWART', '13150005', 'AGG ASSLT W/DEADLY WEAPON', '', 'F2', '', '40000', '', '']\n",
      "1625127 ['CWART', '3701', 'TRAFFIC OFFENSE MULTIPLE', '', 'MC', '', '', '2016-07-09', 'SENTENCE COMPLETE']\n",
      "1625127 ['BFOR', '48990009', 'FAIL TO ID FUGITIVE INTENT GIVE FALSE (MA)', '', 'MA', '', '3000', '2016-12-16', 'DISMISSAL']\n",
      "1625127 ['ATRP', '4003', 'APPLICATION TO REVOKE PROBATION', '', 'F2', '', '', '', '']\n",
      "1625127 ['BINC', '13990001', 'ASSLT CAUSES BODILY INJ', '', 'MA', '', '40000', '', '']\n",
      "1625127 ['CWART', '3701', 'TRAFFIC OFFENSE MULTIPLE', '', 'MC', '', '', '2016-07-09', 'SENTENCE COMPLETE']\n",
      "1625127 ['NEW', '52030024', 'UNL POSS FIREARM BY FELON (F3)', '', 'F3', '', '25000', '', '']\n",
      "1625127 ['ICEW', '4200', 'ICE DETAINER', '', 'F*', '', '', '', '']\n",
      "1627668 ['NEW', '54040011', 'DRIVING WHILE INTOXICATED 3RD OR MORE', '', 'F3', '', '30000', '', '']\n",
      "1627668 ['ICEW', '4200', 'ICE DETAINER', '', 'F*', '', '', '', '']\n",
      "1628855 ['NEWART', '36010001', 'INDECENCY W/CHILD SEXUAL CONTACT', '', 'F2', '', '22000', '', '']\n",
      "1628855 ['ICEW', '4200', 'ICE DETAINER', '', 'F*', '', '', '', '']\n",
      "1628918 ['NEW', '13150005', 'AGG ASSLT W/DEADLY WEAPON', '', 'F2', '', '20000', '', '']\n",
      "1628918 ['NEW', '13150005', 'AGG ASSLT W/DEADLY WEAPON', '', 'F2', '', '20000', '', '']\n",
      "1628918 ['NEW', '13990076', 'Fel Asslt FV Strangulation (F3)', '', 'F3', '', '17000', '', '']\n",
      "1628918 ['NEW', '53990010', 'INTERFER W/EMERGENCY CALL (MA)', '', 'MA', '', '3000', '', '']\n",
      "1628918 ['NEW', '13990043', 'INJ CHILD/ELDER/DISABLE W/INT BOD(F3', '', 'F3', '', '40000', '', '']\n",
      "1628918 ['ICEW', '4200', 'ICE DETAINER', '', 'F*', '', '', '', '']\n",
      "1629071 ['NEW', '13150005', 'AGG ASSLT W/DEADLY WEAPON', '', 'F2', '', '25000', '', '']\n",
      "1629071 ['ICEW', '4200', 'ICE DETAINER', '', 'F*', '', '', '', '']\n",
      "1629571 ['NEW', '54040011', 'DRIVING WHILE INTOXICATED 3RD OR MORE', '', 'F3', '2 years', '', '', '']\n",
      "1629571 ['ICEW', '4200', 'ICE DETAINER', '', 'F*', '', '', '', '']\n",
      "1635071 ['NEW', '54040011', 'DRIVING WHILE INTOXICATED 3RD OR MORE', '', 'F3', '2 years', '', '', '']\n",
      "1635071 ['NEW', '35990014', 'POSS CS PG1<1G (FS)', '', 'FS', '', '5000', '2017-01-23', 'DISMISSAL']\n",
      "1635071 ['ICEW', '4200', 'ICE DETAINER', '', 'F*', '', '', '', '']\n",
      "1635995 ['NEW', '54040011', 'DRIVING WHILE INTOXICATED 3RD OR MORE', '', 'F3', '', '40000', '', '']\n",
      "1635995 ['ICEW', '4200', 'ICE DETAINER', '', 'F*', '', '', '', '']\n",
      "1637930 ['NEW', '54040011', 'DRIVING WHILE INTOXICATED 3RD OR MORE', '', 'F3', '', '25000', '', '']\n",
      "1637930 ['CWART', '3701', 'TRAFFIC OFFENSE MULTIPLE', '', 'MC', '', '', '2016-10-18', 'SENTENCE COMPLETE']\n",
      "1637930 ['ICEW', '4200', 'ICE DETAINER', '', 'F*', '', '', '', '']\n",
      "1638577 ['NEW', '54040009', 'DRIVING WHILE INTOXICATED', '', 'MB', '', '2000', '2017-02-03', 'BOND-PERSONAL RECOGNIZANCE']\n",
      "1638577 ['ICEW', '4200', 'ICE DETAINER', '', 'F*', '', '', '2017-02-05', 'RELEASED TO ICE']\n",
      "1640430 ['NEW', '48990009', 'FAIL TO ID FUGITIVE INTENT GIVE FALSE (MA)', '', 'MA', '', '2500', '', '']\n",
      "1640430 ['NEW', '52030027', 'UNL CARRYING WEAPON', '', 'MA', '', '2000', '', '']\n",
      "1640430 ['NEW', '35620008', 'POSS MARIJ <2OZ (MB)', '', 'MB', '', '500', '', '']\n",
      "1640430 ['NEWART', '22990002', 'BURGLARY OF HABITATION', '', 'F2', '', '25000', '', '']\n",
      "1640430 ['ICEW', '4200', 'ICE DETAINER', '', 'F*', '', '', '', '']\n",
      "1642064 ['NEW', '54040011', 'DRIVING WHILE INTOXICATED 3RD OR MORE', '', 'F3', '', '15000', '2017-02-03', 'BOND-PERSONAL RECOGNIZANCE']\n",
      "1642064 ['ICEW', '4200', 'ICE DETAINER', '', 'F*', '', '', '2017-02-05', 'RELEASED TO ICE']\n",
      "1642527 ['NEW', '13150004', 'AGG ASSLT CAUSES SBI', '', 'F2', '', '30000', '', '']\n",
      "1642527 ['NEW', '70990052', 'UNLAWFUL RESTRAINT: EXPOSE TO SBI(F3)', '', 'F3', '', '', '2016-11-24', 'JUDGE ORDER']\n",
      "1642527 ['NEW', '53990010', 'INTERFER W/EMERGENCY CALL (MA)', '', 'MA', '', '5000', '', '']\n",
      "1642527 ['NEW', '13990042', 'INJ CHILD/ELDER/DISABLE RECK SBI/MEN', '', 'F2', '', '10000', '', '']\n",
      "1642527 ['ICEW', '4200', 'ICE DETAINER', '', 'F*', '', '', '', '']\n",
      "1643044 ['NEWART', '13990031', 'ASSLT CAUSES BODILY INJ:FAMILY MEMBER (MA)', '', 'MA', '', '5000', '', '']\n",
      "1643044 ['ICEW', '4200', 'ICE DETAINER', '', 'F*', '', '', '', '']\n",
      "1643228 ['NEWART', '36010001', 'INDECENCY W/CHILD SEXUAL CONTACT', '', 'F2', '', '50000', '', '']\n",
      "1643228 ['ICEW', '4200', 'ICE DETAINER', '', 'F*', '', '', '', '']\n",
      "1643371 ['NEWART', '12990002', 'AGG ROBBERY', '', 'F1', '', '40000', '', '']\n",
      "1643371 ['NEWART', '10990004', 'AGG KIDNAPPING', '', 'F1', '', '40000', '', '']\n",
      "1643371 ['ICEW', '4200', 'ICE DETAINER', '', 'F*', '', '', '', '']\n",
      "1643408 ['NEW', '35990016', 'POSS CS PG1 >=4G<200G (F2)', '', 'F2', '', '10000', '', '']\n",
      "1643408 ['NEW', '48010017', 'EVADING ARREST DETENTION (MA)', '', 'MA', '', '5000', '', '']\n",
      "1643408 ['ICEW', '4200', 'ICE DETAINER', '', 'F*', '', '', '', '']\n",
      "1643408 ['NEWART', '11990001', 'SEXUAL ASSLT', '', 'F2', '', '40000', '', '']\n",
      "1643692 ['NEW', '53990010', 'INTERFER W/EMERGENCY CALL (MA)', '', 'MA', '', '5500', '', '']\n",
      "1643692 ['NEW', '13990031', 'ASSLT CAUSES BODILY INJ:FAMILY MEMBER (MA)', '', 'MA', '', '7500', '', '']\n",
      "1643692 ['ICEW', '4200', 'ICE DETAINER', '', 'F*', '', '', '', '']\n",
      "1643692 ['MTRP', '3114', 'MOTION TO REVOKE PROBATION', '', 'M*', '', '', '', '']\n",
      "1643692 ['MTRP', '3114', 'MOTION TO REVOKE PROBATION', '', 'M*', '', '', '', '']\n",
      "1643692 ['MTRP', '3114', 'MOTION TO REVOKE PROBATION', '', 'M*', '', '4000', '', '']\n",
      "1644442 ['NEW', '54040009', 'DRIVING WHILE INTOXICATED', '', 'MB', '', '3000', '', '']\n",
      "1644442 ['ICEW', '4200', 'ICE DETAINER', '', 'F*', '', '', '', '']\n",
      "1644442 ['MOBD', '54040014', 'DRIVING WHILE INTOXICATED BAC>=0.15', '', 'MA', '', '', '', '']\n",
      "1644500 ['NEW', '54040011', 'DRIVING WHILE INTOXICATED 3RD OR MORE', '', 'F3', '', '10000', '', '']\n",
      "1644500 ['ICEW', '4200', 'ICE DETAINER', '', 'F*', '', '', '', '']\n",
      "1644573 ['NEW', '54040011', 'DRIVING WHILE INTOXICATED 3RD OR MORE', '', 'F3', '', '25000', '', '']\n",
      "1644573 ['NEW', '48990015', 'FAIL TO ID GIVING FALSE/FICTITIOUS INFO', '', 'MB', '', '1000', '', '']\n",
      "1644573 ['ICEW', '4200', 'ICE DETAINER', '', 'F*', '', '', '', '']\n",
      "1645188 ['NEWART', '49990001', 'ESCAPE FROM CUSTODY', '', 'MA', '', '15000', '', '']\n",
      "1645188 ['NEWART', '54040009', 'DRIVING WHILE INTOXICATED', '', 'MB', '', '3000', '', '']\n",
      "1645188 ['BFOR', '54040009', 'DRIVING WHILE INTOXICATED', '', 'MB', '', '4000', '', '']\n",
      "1645188 ['ICEW', '4200', 'ICE DETAINER', '', 'F*', '', '', '', '']\n",
      "1646272 ['NEW', '54040011', 'DRIVING WHILE INTOXICATED 3RD OR MORE', '', 'F3', '', '10000', '', '']\n",
      "1646272 ['ICEW', '4200', 'ICE DETAINER', '', 'F*', '', '', '', '']\n",
      "1646321 ['NEW', '48010017', 'EVADING ARREST DETENTION (MA)', '', 'MA', '', '3000', '', '']\n",
      "1646321 ['NEW', '35990014', 'POSS CS PG1<1G (FS)', '', 'FS', '', '8000', '', '']\n",
      "1646321 ['HOLDS', '3113', 'PAROLE VIOLATION', '', 'F*', '', '', '', '']\n",
      "1646321 ['ICEW', '4200', 'ICE DETAINER', '', 'F*', '', '', '', '']\n",
      "1700230 ['NEW', '54040011', 'DRIVING WHILE INTOXICATED 3RD OR MORE', '', 'F3', '', '10000', '', '']\n",
      "1700230 ['NEW', '35990014', 'POSS CS PG1<1G (FS)', '', 'FS', '', '5000', '', '']\n",
      "1700230 ['MOBD', '54040009', 'DRIVING WHILE INTOXICATED', '', 'MB', '', '10000', '', '']\n",
      "1700230 ['ICEW', '4200', 'ICE DETAINER', '', 'F*', '', '', '', '']\n",
      "1700231 ['NEW', '22990004', 'BURGLARY OF VEHICLE', '', 'MA', '', '', '2017-02-07', 'MANUAL LABOR CREDIT RELEASE']\n",
      "1700231 ['NEW', '22060001', 'UNL USE OF CRIMINAL INSTRUMENT (MB)', '', 'MB', '', '5000', '2017-01-09', 'CASE INTERGRATED']\n",
      "1700231 ['NEW', '1818', 'POSS OF DRUG PARA (PDP,PNP)', '', 'MC', '', '', '2017-01-03', 'NO CHARGES FILED']\n",
      "1700231 ['ICEW', '4200', 'ICE DETAINER', '', 'F*', '', '', '2017-02-07', 'RELEASED TO ICE']\n",
      "1703743 ['NEW', '54040014', 'DRIVING WHILE INTOXICATED BAC>=0.15', '', 'MA', '', '3000', '', '']\n",
      "1703743 ['NEW', '35990014', 'POSS CS PG1<1G (FS)', '', 'FS', '', '7000', '', '']\n",
      "1703743 ['ICEW', '4200', 'ICE DETAINER', '', 'F*', '', '', '', '']\n"
     ]
    }
   ],
   "source": [
    "# scrape spreadsheet data into a python dictionary\n",
    "with open('data-feb/reinstated-trimmed.csv', 'r') as infile:\n",
    "    data = csv.reader(infile, delimiter=',')\n",
    "    data = list(data)\n",
    "    \n",
    "    # setting up our people dataframe\n",
    "    people = []\n",
    "    \n",
    "    # setting up our charges dataframe\n",
    "    charges = []\n",
    "    \n",
    "    booking_id_tracker = ''\n",
    "    \n",
    "    # set initial defaults    \n",
    "    new_record = False\n",
    "    booking_id = None\n",
    "\n",
    "    # We are working through the data in the csv\n",
    "    for row in data:\n",
    "        row = [x.strip() for x in row]\n",
    "\n",
    "        if new_record:\n",
    "            booking_id = row[0]\n",
    "            booking_id_tracker = booking_id #sets the tracker to this record\n",
    "            name = row[1]\n",
    "            name_last = name_unmangler(name)[0]\n",
    "            name_rest = name_unmangler(name)[1]\n",
    "            race = row[2]\n",
    "            sex = row[3]\n",
    "            jail_custody = row[4]\n",
    "            age = row[5]\n",
    "            booking_date = row[6]\n",
    "            release_date = row[7]\n",
    "            nativity = row[8]\n",
    "\n",
    "            people.append([\n",
    "                    booking_id,\n",
    "                    name_last,\n",
    "                    name_rest,\n",
    "                    race,\n",
    "                    sex,\n",
    "                    jail_custody,\n",
    "                    age,\n",
    "                    booking_date,\n",
    "                    release_date,\n",
    "                    nativity\n",
    "                ])\n",
    "        \n",
    "            # reset flag\n",
    "            new_record = False\n",
    "        \n",
    "        else:\n",
    "            if ''.join(row).strip() != '' and row[1].strip() != 'Charge' and row[0] != 'Booking No':\n",
    "                print(booking_id_tracker, row)\n",
    "        \n",
    "        # setting the flag at the end of the loop so we know it is\n",
    "        # a new record.\n",
    "        # if it's a blank row, the next one is a new record\n",
    "        if ''.join(row).strip() == '' or row[0] == 'Booking No':\n",
    "            # set flag\n",
    "            new_record = True\n",
    "\n"
   ]
  },
  {
   "cell_type": "code",
   "execution_count": null,
   "metadata": {
    "collapsed": true
   },
   "outputs": [],
   "source": []
  }
 ],
 "metadata": {
  "kernelspec": {
   "display_name": "Python 3",
   "language": "python",
   "name": "python3"
  },
  "language_info": {
   "codemirror_mode": {
    "name": "ipython",
    "version": 3
   },
   "file_extension": ".py",
   "mimetype": "text/x-python",
   "name": "python",
   "nbconvert_exporter": "python",
   "pygments_lexer": "ipython3",
   "version": "3.5.1"
  }
 },
 "nbformat": 4,
 "nbformat_minor": 0
}
