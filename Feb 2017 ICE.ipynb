{
 "cells": [
  {
   "cell_type": "markdown",
   "metadata": {},
   "source": [
    "# Information about Ice raids in February, 2017\n",
    "\n",
    "By Christian McDonald, with much help from Cody Winchester\n",
    "\n",
    "Of note: There is problem with converting the .xlsx file as it came from Phil. I had to open it in Excel and `save as` first before csvkit would properly process the contents of the file.\n",
    "\n",
    "Right now this works with a single csv of the three available.\n",
    "\n",
    "`ICE - ORR - 4200 released 01Feb2017 and Reinstated with ICE Warrant.xlsx` was opened an a Save as done to rename as `reinstated.xlsx` into data-feb-raw.\n",
    "\n",
    "This:\n",
    "- converts the spreadsheet to csv\n",
    "- parses the csv into to tables\n",
    "    + First is a list of the people and info about them\n",
    "    + Second is the list of charges, with booking_id of the person\n"
   ]
  },
  {
   "cell_type": "code",
   "execution_count": 1,
   "metadata": {
    "collapsed": false
   },
   "outputs": [
    {
     "name": "stderr",
     "output_type": "stream",
     "text": [
      "/Users/christian/anaconda/envs/data/lib/python3.5/site-packages/openpyxl/workbook/names/named_range.py:124: UserWarning: Discarded range with reserved name\n",
      "  warnings.warn(\"Discarded range with reserved name\")\n",
      "/Users/christian/anaconda/envs/data/lib/python3.5/site-packages/openpyxl/workbook/workbook.py:102: UserWarning: Call to deprecated function or class get_active_sheet (Use the .active property).\n",
      "  def get_active_sheet(self):\n"
     ]
    }
   ],
   "source": [
    "%%bash\n",
    "# Convert to csv\n",
    "in2csv data-feb-raw/reinstated.xlsx > data-feb/reinstated.csv"
   ]
  },
  {
   "cell_type": "code",
   "execution_count": 2,
   "metadata": {
    "collapsed": true
   },
   "outputs": [],
   "source": [
    "%%bash\n",
    "# this trims crud from the head and tail\n",
    "count=$(wc -l < data-feb/reinstated.csv | sed 's/ //g'); trim=$(echo $count - 10 | bc); \\\n",
    "tail -n +6 data-feb/reinstated.csv | head -n $trim > data-feb/reinstated-trimmed.csv\n"
   ]
  },
  {
   "cell_type": "code",
   "execution_count": 3,
   "metadata": {
    "collapsed": false
   },
   "outputs": [
    {
     "name": "stdout",
     "output_type": "stream",
     "text": [
      "201\n"
     ]
    }
   ],
   "source": [
    "%%bash\n",
    "# report line count, stripping spaces\n",
    "wc -l < data-feb/reinstated-trimmed.csv | sed 's/ //g'\n"
   ]
  },
  {
   "cell_type": "code",
   "execution_count": 4,
   "metadata": {
    "collapsed": false
   },
   "outputs": [],
   "source": [
    "# python imports\n",
    "import csv\n",
    "import datetime\n",
    "import pandas as pd"
   ]
  },
  {
   "cell_type": "code",
   "execution_count": 5,
   "metadata": {
    "collapsed": true
   },
   "outputs": [],
   "source": [
    "# helper functions\n",
    "\n",
    "# This is the name unmangler\n",
    "def name_unmangler(name_str):\n",
    "    \"\"\"Return `LAST,REST` as a tuple\"\"\"\n",
    "    try:\n",
    "        name_split = name_str.split(',')\n",
    "        return (name_split[0], name_split[1])\n",
    "    except:\n",
    "        return name_str\n"
   ]
  },
  {
   "cell_type": "code",
   "execution_count": 6,
   "metadata": {
    "collapsed": false
   },
   "outputs": [],
   "source": [
    "# scrape spreadsheet data into a python dictionary\n",
    "with open('data-feb/reinstated-trimmed.csv', 'r') as infile:\n",
    "    data = csv.reader(infile, delimiter=',')\n",
    "    data = list(data)\n",
    "    \n",
    "    # setting up our people dataframe\n",
    "    people = []\n",
    "    \n",
    "    # setting up our charges dataframe\n",
    "    charges = []\n",
    "    \n",
    "    booking_id_tracker = ''\n",
    "    \n",
    "    # set initial defaults    \n",
    "    new_record = False\n",
    "    booking_id = None\n",
    "\n",
    "    # We are working through the data in the csv\n",
    "    for row in data:\n",
    "        row = [x.strip() for x in row]\n",
    "\n",
    "        if new_record:\n",
    "            # setting vars for each column of the row\n",
    "            booking_id = row[0]\n",
    "            booking_id_tracker = booking_id #sets the tracker to this record\n",
    "            name = row[1]\n",
    "            name_last = name_unmangler(name)[0]\n",
    "            name_rest = name_unmangler(name)[1]\n",
    "            race = row[2]\n",
    "            sex = row[3]\n",
    "            jail_custody = row[4]\n",
    "            age = row[5]\n",
    "            booking_date = row[6]\n",
    "            release_date = row[7]\n",
    "            nativity = row[8]\n",
    "            \n",
    "            # adding a row to the people list with vars pulled from current row\n",
    "            people.append([\n",
    "                    booking_id,\n",
    "                    name_last,\n",
    "                    name_rest,\n",
    "                    race,\n",
    "                    sex,\n",
    "                    jail_custody,\n",
    "                    age,\n",
    "                    booking_date,\n",
    "                    release_date,\n",
    "                    nativity\n",
    "                ])\n",
    "        \n",
    "            # reset flag to indicate new record\n",
    "            new_record = False\n",
    "        \n",
    "        else:\n",
    "            # Ensure not blank row, or header or subheader\n",
    "            if ''.join(row).strip() != '' and row[1].strip() != 'Charge' and row[0] != 'Booking No':\n",
    "                #setting vars for each column of the row being parsed\n",
    "                authority = row[0]\n",
    "                charge_id = row[1]\n",
    "                charge_description = row[2]\n",
    "                skip_3 = row[3]\n",
    "                level = row[4]\n",
    "                sentence = row[5]\n",
    "                bond_amount = row[6]\n",
    "                disp_date = row[7]\n",
    "                disp_type = row[8]\n",
    "\n",
    "                charges.append([\n",
    "                        booking_id_tracker,\n",
    "                        authority,\n",
    "                        charge_id,\n",
    "                        charge_description,\n",
    "                        level,\n",
    "                        sentence,\n",
    "                        bond_amount,\n",
    "                        disp_date,\n",
    "                        disp_type\n",
    "                    ])\n",
    "        \n",
    "        # setting the flag at the end of the loop so we know it is\n",
    "        # a new record.\n",
    "        # if it's a blank row, the next one is a new record\n",
    "        if ''.join(row).strip() == '' or row[0] == 'Booking No':\n",
    "            # set flag\n",
    "            new_record = True\n",
    "\n",
    "# at this point I have two dictionaries?\n",
    "# `people` are all the individual people\n",
    "# `charges` are all the charges, with first row the booking_id of the person"
   ]
  },
  {
   "cell_type": "code",
   "execution_count": 7,
   "metadata": {
    "collapsed": false
   },
   "outputs": [
    {
     "name": "stdout",
     "output_type": "stream",
     "text": [
      "[['1541823', 'RAMIREZ-MARTINEZ', 'ALEJANDRO', 'W', 'M', 'IN CUSTODY', '29', '2015-11-02', '', 'Mexico (Use only when state is unknown)'], ['1601778', 'GONZALEZ', 'WILLIAM', 'W', 'M', 'IN CUSTODY', '25', '2016-01-14', '', 'Distrito Federal, Mexico'], ['1621712', 'MOCTEZUMA-MORENO', 'JOSE R', 'W', 'M', 'RELEASED', '33', '2016-06-12', '2017-02-09', 'Mexico (Use only when state is unknown)'], ['1624441', 'CONTRERAS', 'BETO', 'W', 'M', 'IN CUSTODY', '42', '2016-07-03', '', 'Mexico (Use only when state is unknown)'], ['1625127', 'MORA', 'JOSE EUSTASIO', 'W', 'M', 'IN CUSTODY', '32', '2016-07-09', '', 'Mexico (Use only when state is unknown)'], ['1627668', 'SUSTAITA', 'JUAN MANUEL', 'W', 'M', 'IN CUSTODY', '43', '2016-07-29', '', 'Mexico (Use only when state is unknown)'], ['1628855', 'LOPEZ', 'JULIAN', 'W', 'M', 'IN CUSTODY', '31', '2016-08-07', '', 'Honduras'], ['1628918', 'ESTRADA-FLORES', 'RAMON ALCIDES', 'W', 'M', 'IN CUSTODY', '34', '2016-08-07', '', 'Honduras'], ['1629071', 'NAVA-NAARVAEZ', 'ERICK', 'W', 'M', 'IN CUSTODY', '22', '2016-08-08', '', 'Mexico (Use only when state is unknown)'], ['1629571', 'OSORIO', 'JOSE BENITEZ', 'W', 'M', 'IN CUSTODY', '37', '2016-08-12', '', 'Michoacan, Mexico'], ['1635071', 'FLORES-MEJIA', 'WINDER ALCIDES', 'W', 'M', 'IN CUSTODY', '36', '2016-09-24', '', 'Honduras'], ['1635995', 'CRUZ-JIMENEZ', 'ROBERTO', 'W', 'M', 'IN CUSTODY', '41', '2016-10-02', '', 'Mexico (Use only when state is unknown)'], ['1637930', 'SANCHEZ-EZCOBAR', 'CARLOS', 'W', 'M', 'IN CUSTODY', '45', '2016-10-17', '', 'Mexico (Use only when state is unknown)'], ['1638577', 'TORRES-VELAZQUEZ', 'URIEL', 'W', 'M', 'RELEASED', '50', '2016-10-23', '2017-02-05', 'Mexico (Use only when state is unknown)'], ['1640430', 'CRUZ-MELGAR', 'MIGUEL ANGEL', 'W', 'M', 'IN CUSTODY', '22', '2016-11-06', '', 'Honduras'], ['1642064', 'CEDILLO', 'PEDRO REQUENA', 'W', 'M', 'RELEASED', '46', '2016-11-20', '2017-02-05', 'Mexico (Use only when state is unknown)'], ['1642527', 'RAMIREZ', 'DAVID ORTEGA', 'W', 'M', 'IN CUSTODY', '27', '2016-11-24', '', 'Mexico (Use only when state is unknown)'], ['1643044', 'ARIAS-GALVEZ', 'EDENIS FRANSISCO', 'W', 'M', 'IN CUSTODY', '41', '2016-11-29', '', 'Honduras'], ['1643228', 'GARCIA-OLEA', 'JOSE LUIS', 'W', 'M', 'IN CUSTODY', '44', '2016-11-30', '', 'Guerrero, Mexico'], ['1643371', 'GUAJARDO-GARCIA', 'JOSE ALBERTO', 'W', 'M', 'IN CUSTODY', '35', '2016-12-01', '', 'Nuevo Leon, Mexico'], ['1643408', 'ARRIAGA', 'CRYSTER', 'W', 'M', 'IN CUSTODY', '23', '2016-12-01', '', 'Mexico (Use only when state is unknown)'], ['1643692', 'CENTENO-BUENOVISTA', 'ROGELIO', 'W', 'M', 'IN CUSTODY', '29', '2016-12-04', '', 'Mexico (Use only when state is unknown)'], ['1644442', 'OLVERA', 'MIGUEL RODRIGUEZ', 'W', 'M', 'IN CUSTODY', '25', '2016-12-10', '', 'Mexico (State)'], ['1644500', 'PEREZ', 'CELERINO JARAMILLO', 'W', 'M', 'IN CUSTODY', '40', '2016-12-11', '', 'Mexico (Use only when state is unknown)'], ['1644573', 'BUSTILLO-ROMERO', 'SELVIN LEONARD', 'W', 'M', 'IN CUSTODY', '27', '2016-12-11', '', 'Honduras'], ['1645188', 'VASQUEZ PORTILLO', 'OLVIN JAVIER', 'W', 'M', 'IN CUSTODY', '30', '2016-12-16', '', 'Honduras'], ['1646272', 'BAZ-BAUTISTA', 'URBANO', 'W', 'M', 'IN CUSTODY', '36', '2016-12-25', '', 'Mexico (Use only when state is unknown)'], ['1646321', 'GONZALEZ', 'LEONEL CASTILLO', 'W', 'M', 'IN CUSTODY', '36', '2016-12-26', '', 'Mexico (Use only when state is unknown)'], ['1700230', 'MAYORGA', 'MILTON JAVIER', 'W', 'M', 'IN CUSTODY', '33', '2017-01-03', '', 'Nicaragua'], ['1700231', 'LAZARO-BELTON', 'FERNANDO IVAN', 'W', 'M', 'RELEASED', '20', '2017-01-03', '2017-02-07', 'Mexico (Use only when state is unknown)'], ['1703743', 'HERNANDEZ-MONDRAGON', 'JOE', 'W', 'M', 'IN CUSTODY', '32', '2017-01-29', '', 'Mexico (Use only when state is unknown)']]\n"
     ]
    }
   ],
   "source": [
    "print(people)"
   ]
  },
  {
   "cell_type": "code",
   "execution_count": 8,
   "metadata": {
    "collapsed": false
   },
   "outputs": [
    {
     "name": "stdout",
     "output_type": "stream",
     "text": [
      "[['1541823', 'NEWART', '36010001', 'INDECENCY W/CHILD SEXUAL CONTACT', 'F2', '', '70000', '', ''], ['1541823', 'ICEW', '4200', 'ICE DETAINER', 'F*', '', '', '', ''], ['1601778', 'NEW', '48010019', 'EVADING ARREST DET W/PREV CONVICTION', 'FS', '', '', '2016-01-15', 'NO CHARGES FILED'], ['1601778', 'NEW', '48010020', 'EVADING ARREST DET W/VEH', 'F3', '7 years', '', '', ''], ['1601778', 'NEW', '54040011', 'DRIVING WHILE INTOXICATED 3RD OR MORE', 'F3', '7 years', '', '', ''], ['1601778', 'NEW', '29990042', 'CRIMINAL MISCHIEF >=$100<$750', 'MB', '', '', '2016-01-14', 'NO CHARGES FILED'], ['1601778', 'NEW', '35990014', 'POSS CS PG1<1G (FS)', 'FS', '', '', '2016-01-14', 'NO CHARGES FILED'], ['1601778', 'NEW', '29990027', 'CRIM MISCHIEF IMPAIR/INTERRUPT PUB SERVICE', 'FS', '', '', '', ''], ['1601778', 'ICEW', '4200', 'ICE DETAINER', 'F*', '', '', '', ''], ['1601778', 'REIN', '54040011', 'DRIVING WHILE INTOXICATED 3RD OR MORE', 'F3', '', '', '2017-01-18', 'DISMISSAL'], ['1621712', 'NEW', '54040011', 'DRIVING WHILE INTOXICATED 3RD OR MORE', 'F3', '3 years', '', '2017-02-09', 'RELEASED TO TDCJ-ID'], ['1621712', 'ICEW', '4200', 'ICE DETAINER', 'F*', '', '', '2017-02-09', 'RELEASED TO TDCJ-ID'], ['1624441', 'NEW', '54040014', 'DRIVING WHILE INTOXICATED BAC>=0.15', 'MA', '', '4000', '', ''], ['1624441', 'NEW', '54010009', 'ACCIDENT INVOLVING SERIOUS BODILY INJURY', 'F3', '', '15000', '', ''], ['1624441', 'BFOR', '35990014', 'POSS CS PG1<1G (FS)', 'FS', '', '', '', ''], ['1624441', 'ICEW', '4200', 'ICE DETAINER', 'F*', '', '', '', ''], ['1625127', 'NEWART', '13150005', 'AGG ASSLT W/DEADLY WEAPON', 'F2', '', '40000', '', ''], ['1625127', 'NEWART', '16020010', 'TERRORISTIC THREAT OF FAMILY/HOUSEHOLD', 'MA', '', '75000', '', ''], ['1625127', 'NEWART', '13150005', 'AGG ASSLT W/DEADLY WEAPON', 'F2', '', '40000', '', ''], ['1625127', 'CWART', '3701', 'TRAFFIC OFFENSE MULTIPLE', 'MC', '', '', '2016-07-09', 'SENTENCE COMPLETE'], ['1625127', 'BFOR', '48990009', 'FAIL TO ID FUGITIVE INTENT GIVE FALSE (MA)', 'MA', '', '3000', '2016-12-16', 'DISMISSAL'], ['1625127', 'ATRP', '4003', 'APPLICATION TO REVOKE PROBATION', 'F2', '', '', '', ''], ['1625127', 'BINC', '13990001', 'ASSLT CAUSES BODILY INJ', 'MA', '', '40000', '', ''], ['1625127', 'CWART', '3701', 'TRAFFIC OFFENSE MULTIPLE', 'MC', '', '', '2016-07-09', 'SENTENCE COMPLETE'], ['1625127', 'NEW', '52030024', 'UNL POSS FIREARM BY FELON (F3)', 'F3', '', '25000', '', ''], ['1625127', 'ICEW', '4200', 'ICE DETAINER', 'F*', '', '', '', ''], ['1627668', 'NEW', '54040011', 'DRIVING WHILE INTOXICATED 3RD OR MORE', 'F3', '', '30000', '', ''], ['1627668', 'ICEW', '4200', 'ICE DETAINER', 'F*', '', '', '', ''], ['1628855', 'NEWART', '36010001', 'INDECENCY W/CHILD SEXUAL CONTACT', 'F2', '', '22000', '', ''], ['1628855', 'ICEW', '4200', 'ICE DETAINER', 'F*', '', '', '', ''], ['1628918', 'NEW', '13150005', 'AGG ASSLT W/DEADLY WEAPON', 'F2', '', '20000', '', ''], ['1628918', 'NEW', '13150005', 'AGG ASSLT W/DEADLY WEAPON', 'F2', '', '20000', '', ''], ['1628918', 'NEW', '13990076', 'Fel Asslt FV Strangulation (F3)', 'F3', '', '17000', '', ''], ['1628918', 'NEW', '53990010', 'INTERFER W/EMERGENCY CALL (MA)', 'MA', '', '3000', '', ''], ['1628918', 'NEW', '13990043', 'INJ CHILD/ELDER/DISABLE W/INT BOD(F3', 'F3', '', '40000', '', ''], ['1628918', 'ICEW', '4200', 'ICE DETAINER', 'F*', '', '', '', ''], ['1629071', 'NEW', '13150005', 'AGG ASSLT W/DEADLY WEAPON', 'F2', '', '25000', '', ''], ['1629071', 'ICEW', '4200', 'ICE DETAINER', 'F*', '', '', '', ''], ['1629571', 'NEW', '54040011', 'DRIVING WHILE INTOXICATED 3RD OR MORE', 'F3', '2 years', '', '', ''], ['1629571', 'ICEW', '4200', 'ICE DETAINER', 'F*', '', '', '', ''], ['1635071', 'NEW', '54040011', 'DRIVING WHILE INTOXICATED 3RD OR MORE', 'F3', '2 years', '', '', ''], ['1635071', 'NEW', '35990014', 'POSS CS PG1<1G (FS)', 'FS', '', '5000', '2017-01-23', 'DISMISSAL'], ['1635071', 'ICEW', '4200', 'ICE DETAINER', 'F*', '', '', '', ''], ['1635995', 'NEW', '54040011', 'DRIVING WHILE INTOXICATED 3RD OR MORE', 'F3', '', '40000', '', ''], ['1635995', 'ICEW', '4200', 'ICE DETAINER', 'F*', '', '', '', ''], ['1637930', 'NEW', '54040011', 'DRIVING WHILE INTOXICATED 3RD OR MORE', 'F3', '', '25000', '', ''], ['1637930', 'CWART', '3701', 'TRAFFIC OFFENSE MULTIPLE', 'MC', '', '', '2016-10-18', 'SENTENCE COMPLETE'], ['1637930', 'ICEW', '4200', 'ICE DETAINER', 'F*', '', '', '', ''], ['1638577', 'NEW', '54040009', 'DRIVING WHILE INTOXICATED', 'MB', '', '2000', '2017-02-03', 'BOND-PERSONAL RECOGNIZANCE'], ['1638577', 'ICEW', '4200', 'ICE DETAINER', 'F*', '', '', '2017-02-05', 'RELEASED TO ICE'], ['1640430', 'NEW', '48990009', 'FAIL TO ID FUGITIVE INTENT GIVE FALSE (MA)', 'MA', '', '2500', '', ''], ['1640430', 'NEW', '52030027', 'UNL CARRYING WEAPON', 'MA', '', '2000', '', ''], ['1640430', 'NEW', '35620008', 'POSS MARIJ <2OZ (MB)', 'MB', '', '500', '', ''], ['1640430', 'NEWART', '22990002', 'BURGLARY OF HABITATION', 'F2', '', '25000', '', ''], ['1640430', 'ICEW', '4200', 'ICE DETAINER', 'F*', '', '', '', ''], ['1642064', 'NEW', '54040011', 'DRIVING WHILE INTOXICATED 3RD OR MORE', 'F3', '', '15000', '2017-02-03', 'BOND-PERSONAL RECOGNIZANCE'], ['1642064', 'ICEW', '4200', 'ICE DETAINER', 'F*', '', '', '2017-02-05', 'RELEASED TO ICE'], ['1642527', 'NEW', '13150004', 'AGG ASSLT CAUSES SBI', 'F2', '', '30000', '', ''], ['1642527', 'NEW', '70990052', 'UNLAWFUL RESTRAINT: EXPOSE TO SBI(F3)', 'F3', '', '', '2016-11-24', 'JUDGE ORDER'], ['1642527', 'NEW', '53990010', 'INTERFER W/EMERGENCY CALL (MA)', 'MA', '', '5000', '', ''], ['1642527', 'NEW', '13990042', 'INJ CHILD/ELDER/DISABLE RECK SBI/MEN', 'F2', '', '10000', '', ''], ['1642527', 'ICEW', '4200', 'ICE DETAINER', 'F*', '', '', '', ''], ['1643044', 'NEWART', '13990031', 'ASSLT CAUSES BODILY INJ:FAMILY MEMBER (MA)', 'MA', '', '5000', '', ''], ['1643044', 'ICEW', '4200', 'ICE DETAINER', 'F*', '', '', '', ''], ['1643228', 'NEWART', '36010001', 'INDECENCY W/CHILD SEXUAL CONTACT', 'F2', '', '50000', '', ''], ['1643228', 'ICEW', '4200', 'ICE DETAINER', 'F*', '', '', '', ''], ['1643371', 'NEWART', '12990002', 'AGG ROBBERY', 'F1', '', '40000', '', ''], ['1643371', 'NEWART', '10990004', 'AGG KIDNAPPING', 'F1', '', '40000', '', ''], ['1643371', 'ICEW', '4200', 'ICE DETAINER', 'F*', '', '', '', ''], ['1643408', 'NEW', '35990016', 'POSS CS PG1 >=4G<200G (F2)', 'F2', '', '10000', '', ''], ['1643408', 'NEW', '48010017', 'EVADING ARREST DETENTION (MA)', 'MA', '', '5000', '', ''], ['1643408', 'ICEW', '4200', 'ICE DETAINER', 'F*', '', '', '', ''], ['1643408', 'NEWART', '11990001', 'SEXUAL ASSLT', 'F2', '', '40000', '', ''], ['1643692', 'NEW', '53990010', 'INTERFER W/EMERGENCY CALL (MA)', 'MA', '', '5500', '', ''], ['1643692', 'NEW', '13990031', 'ASSLT CAUSES BODILY INJ:FAMILY MEMBER (MA)', 'MA', '', '7500', '', ''], ['1643692', 'ICEW', '4200', 'ICE DETAINER', 'F*', '', '', '', ''], ['1643692', 'MTRP', '3114', 'MOTION TO REVOKE PROBATION', 'M*', '', '', '', ''], ['1643692', 'MTRP', '3114', 'MOTION TO REVOKE PROBATION', 'M*', '', '', '', ''], ['1643692', 'MTRP', '3114', 'MOTION TO REVOKE PROBATION', 'M*', '', '4000', '', ''], ['1644442', 'NEW', '54040009', 'DRIVING WHILE INTOXICATED', 'MB', '', '3000', '', ''], ['1644442', 'ICEW', '4200', 'ICE DETAINER', 'F*', '', '', '', ''], ['1644442', 'MOBD', '54040014', 'DRIVING WHILE INTOXICATED BAC>=0.15', 'MA', '', '', '', ''], ['1644500', 'NEW', '54040011', 'DRIVING WHILE INTOXICATED 3RD OR MORE', 'F3', '', '10000', '', ''], ['1644500', 'ICEW', '4200', 'ICE DETAINER', 'F*', '', '', '', ''], ['1644573', 'NEW', '54040011', 'DRIVING WHILE INTOXICATED 3RD OR MORE', 'F3', '', '25000', '', ''], ['1644573', 'NEW', '48990015', 'FAIL TO ID GIVING FALSE/FICTITIOUS INFO', 'MB', '', '1000', '', ''], ['1644573', 'ICEW', '4200', 'ICE DETAINER', 'F*', '', '', '', ''], ['1645188', 'NEWART', '49990001', 'ESCAPE FROM CUSTODY', 'MA', '', '15000', '', ''], ['1645188', 'NEWART', '54040009', 'DRIVING WHILE INTOXICATED', 'MB', '', '3000', '', ''], ['1645188', 'BFOR', '54040009', 'DRIVING WHILE INTOXICATED', 'MB', '', '4000', '', ''], ['1645188', 'ICEW', '4200', 'ICE DETAINER', 'F*', '', '', '', ''], ['1646272', 'NEW', '54040011', 'DRIVING WHILE INTOXICATED 3RD OR MORE', 'F3', '', '10000', '', ''], ['1646272', 'ICEW', '4200', 'ICE DETAINER', 'F*', '', '', '', ''], ['1646321', 'NEW', '48010017', 'EVADING ARREST DETENTION (MA)', 'MA', '', '3000', '', ''], ['1646321', 'NEW', '35990014', 'POSS CS PG1<1G (FS)', 'FS', '', '8000', '', ''], ['1646321', 'HOLDS', '3113', 'PAROLE VIOLATION', 'F*', '', '', '', ''], ['1646321', 'ICEW', '4200', 'ICE DETAINER', 'F*', '', '', '', ''], ['1700230', 'NEW', '54040011', 'DRIVING WHILE INTOXICATED 3RD OR MORE', 'F3', '', '10000', '', ''], ['1700230', 'NEW', '35990014', 'POSS CS PG1<1G (FS)', 'FS', '', '5000', '', ''], ['1700230', 'MOBD', '54040009', 'DRIVING WHILE INTOXICATED', 'MB', '', '10000', '', ''], ['1700230', 'ICEW', '4200', 'ICE DETAINER', 'F*', '', '', '', ''], ['1700231', 'NEW', '22990004', 'BURGLARY OF VEHICLE', 'MA', '', '', '2017-02-07', 'MANUAL LABOR CREDIT RELEASE'], ['1700231', 'NEW', '22060001', 'UNL USE OF CRIMINAL INSTRUMENT (MB)', 'MB', '', '5000', '2017-01-09', 'CASE INTERGRATED'], ['1700231', 'NEW', '1818', 'POSS OF DRUG PARA (PDP,PNP)', 'MC', '', '', '2017-01-03', 'NO CHARGES FILED'], ['1700231', 'ICEW', '4200', 'ICE DETAINER', 'F*', '', '', '2017-02-07', 'RELEASED TO ICE'], ['1703743', 'NEW', '54040014', 'DRIVING WHILE INTOXICATED BAC>=0.15', 'MA', '', '3000', '', ''], ['1703743', 'NEW', '35990014', 'POSS CS PG1<1G (FS)', 'FS', '', '7000', '', ''], ['1703743', 'ICEW', '4200', 'ICE DETAINER', 'F*', '', '', '', '']]\n"
     ]
    }
   ],
   "source": [
    "print(charges)"
   ]
  },
  {
   "cell_type": "code",
   "execution_count": null,
   "metadata": {
    "collapsed": true
   },
   "outputs": [],
   "source": []
  }
 ],
 "metadata": {
  "kernelspec": {
   "display_name": "Python 3",
   "language": "python",
   "name": "python3"
  },
  "language_info": {
   "codemirror_mode": {
    "name": "ipython",
    "version": 3
   },
   "file_extension": ".py",
   "mimetype": "text/x-python",
   "name": "python",
   "nbconvert_exporter": "python",
   "pygments_lexer": "ipython3",
   "version": "3.5.1"
  }
 },
 "nbformat": 4,
 "nbformat_minor": 0
}
