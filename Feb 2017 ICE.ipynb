{
 "cells": [
  {
   "cell_type": "markdown",
   "metadata": {},
   "source": [
    "Information about Ice raids in February, 2017"
   ]
  },
  {
   "cell_type": "code",
   "execution_count": 8,
   "metadata": {
    "collapsed": false
   },
   "outputs": [],
   "source": []
  },
  {
   "cell_type": "code",
   "execution_count": 16,
   "metadata": {
    "collapsed": false
   },
   "outputs": [
    {
     "name": "stderr",
     "output_type": "stream",
     "text": [
      "usage: cp [-R [-H | -L | -P]] [-fi | -n] [-apvX] source_file target_file\n",
      "       cp [-R [-H | -L | -P]] [-fi | -n] [-apvX] source_file ... target_directory\n",
      "bash: line 3: data-feb-raw/reinstated.xlsx: Permission denied\n",
      "/Users/christian/anaconda/envs/data/lib/python3.5/site-packages/openpyxl/workbook/names/named_range.py:124: UserWarning: Discarded range with reserved name\n",
      "  warnings.warn(\"Discarded range with reserved name\")\n",
      "/Users/christian/anaconda/envs/data/lib/python3.5/site-packages/openpyxl/workbook/workbook.py:102: UserWarning: Call to deprecated function or class get_active_sheet (Use the .active property).\n",
      "  def get_active_sheet(self):\n"
     ]
    }
   ],
   "source": [
    "%%bash\n",
    "cp data-feb-raw/ICE\\ -\\ ORR\\ -\\ 4200\\ released\\ 01Feb2017\\ and\\ Reinstated\\ with\\ ICE\\ Warrant.xlsx \\\n",
    "\n",
    "data-feb-raw/reinstated.xlsx\n",
    "\n",
    "in2csv data-feb-raw/reinstated.xlsx > data-feb/reinstated.csv"
   ]
  },
  {
   "cell_type": "code",
   "execution_count": 15,
   "metadata": {
    "collapsed": false
   },
   "outputs": [
    {
     "name": "stdout",
     "output_type": "stream",
     "text": [
      ",,,,,32,2017-01-29,,\n",
      ",,,,,,,,\n",
      ",,,,,,3000,,\n",
      ",,,,,,7000,,\n",
      ",,,,,,,,\n",
      ",,,,,,,,\n",
      ",,,,,,,,\n",
      ",,,,,,,,\n",
      "\n",
      "\n"
     ]
    }
   ],
   "source": [
    "%%bash\n",
    "tail data-feb/reinstated.csv"
   ]
  },
  {
   "cell_type": "code",
   "execution_count": null,
   "metadata": {
    "collapsed": true
   },
   "outputs": [],
   "source": []
  }
 ],
 "metadata": {
  "kernelspec": {
   "display_name": "Python 3",
   "language": "python",
   "name": "python3"
  },
  "language_info": {
   "codemirror_mode": {
    "name": "ipython",
    "version": 3
   },
   "file_extension": ".py",
   "mimetype": "text/x-python",
   "name": "python",
   "nbconvert_exporter": "python",
   "pygments_lexer": "ipython3",
   "version": "3.5.1"
  }
 },
 "nbformat": 4,
 "nbformat_minor": 0
}
